{
  "cells": [
    {
      "cell_type": "code",
      "execution_count": 2,
      "id": "f95d9a2d-5843-4f86-a56c-ea5a12c3097b",
      "metadata": {
        "id": "f95d9a2d-5843-4f86-a56c-ea5a12c3097b"
      },
      "outputs": [],
      "source": [
        "# Imports\n",
        "from os.path import join, isdir, isfile\n",
        "from os import listdir as ls\n",
        "import copy\n",
        "import os\n",
        "import pickle\n",
        "from IPython.display import display\n",
        "from ipywidgets import interact, widgets\n",
        "from PIL import Image\n",
        "import matplotlib.pyplot as plt\n",
        "import torch\n",
        "from torch.utils.data import Dataset, DataLoader\n",
        "import torch.nn.functional as F\n",
        "import numpy as np"
      ]
    },
    {
      "cell_type": "code",
      "source": [
        "# Local clone\n",
        "! git clone https://github.com/nanopiero/weow.git\n",
        "import sys\n",
        "sys.path.append('weow')\n",
        "from src.utils import *"
      ],
      "metadata": {
        "id": "Lz52xvY0FPoz",
        "outputId": "5c57f3c1-784f-4515-902f-28ee9801541c",
        "colab": {
          "base_uri": "https://localhost:8080/"
        }
      },
      "id": "Lz52xvY0FPoz",
      "execution_count": 2,
      "outputs": [
        {
          "output_type": "stream",
          "name": "stdout",
          "text": [
            "Cloning into 'weow'...\n",
            "remote: Enumerating objects: 50, done.\u001b[K\n",
            "remote: Counting objects: 100% (50/50), done.\u001b[K\n",
            "remote: Compressing objects: 100% (42/42), done.\u001b[K\n",
            "remote: Total 50 (delta 15), reused 0 (delta 0), pack-reused 0 (from 0)\u001b[K\n",
            "Receiving objects: 100% (50/50), 5.55 MiB | 8.77 MiB/s, done.\n",
            "Resolving deltas: 100% (15/15), done.\n"
          ]
        }
      ]
    },
    {
      "cell_type": "code",
      "source": [
        "# To get models and images\n",
        "! pip install huggingface_hub\n",
        "from huggingface_hub import hf_hub_download"
      ],
      "metadata": {
        "id": "xZg8RH3CETfa",
        "outputId": "93bdbe93-168f-4ae6-e46f-f620343077e5",
        "colab": {
          "base_uri": "https://localhost:8080/"
        }
      },
      "id": "xZg8RH3CETfa",
      "execution_count": 3,
      "outputs": [
        {
          "output_type": "stream",
          "name": "stdout",
          "text": [
            "Requirement already satisfied: huggingface_hub in /usr/local/lib/python3.10/dist-packages (0.24.7)\n",
            "Requirement already satisfied: filelock in /usr/local/lib/python3.10/dist-packages (from huggingface_hub) (3.16.1)\n",
            "Requirement already satisfied: fsspec>=2023.5.0 in /usr/local/lib/python3.10/dist-packages (from huggingface_hub) (2024.6.1)\n",
            "Requirement already satisfied: packaging>=20.9 in /usr/local/lib/python3.10/dist-packages (from huggingface_hub) (24.1)\n",
            "Requirement already satisfied: pyyaml>=5.1 in /usr/local/lib/python3.10/dist-packages (from huggingface_hub) (6.0.2)\n",
            "Requirement already satisfied: requests in /usr/local/lib/python3.10/dist-packages (from huggingface_hub) (2.32.3)\n",
            "Requirement already satisfied: tqdm>=4.42.1 in /usr/local/lib/python3.10/dist-packages (from huggingface_hub) (4.66.5)\n",
            "Requirement already satisfied: typing-extensions>=3.7.4.3 in /usr/local/lib/python3.10/dist-packages (from huggingface_hub) (4.12.2)\n",
            "Requirement already satisfied: charset-normalizer<4,>=2 in /usr/local/lib/python3.10/dist-packages (from requests->huggingface_hub) (3.3.2)\n",
            "Requirement already satisfied: idna<4,>=2.5 in /usr/local/lib/python3.10/dist-packages (from requests->huggingface_hub) (3.10)\n",
            "Requirement already satisfied: urllib3<3,>=1.21.1 in /usr/local/lib/python3.10/dist-packages (from requests->huggingface_hub) (2.2.3)\n",
            "Requirement already satisfied: certifi>=2017.4.17 in /usr/local/lib/python3.10/dist-packages (from requests->huggingface_hub) (2024.8.30)\n"
          ]
        }
      ]
    },
    {
      "cell_type": "code",
      "source": [
        "import os\n",
        "import zipfile\n",
        "from huggingface_hub import hf_hub_download\n",
        "\n",
        "# Download the directed graphs (DG), the undirected graphs ()\n",
        "file_path = 'weow_semi_supervision_training_DG.pkl'\n",
        "# dgs_path =  hf_hub_download(repo_id=\"nanopiero/weow_training_graphs\",\n",
        "#                             filename=file_path,\n",
        "#                             repo_type=\"dataset\"\n",
        "#                             )\n",
        "\n",
        "# Download the directed graphs (EG), the undirected graphs ()\n",
        "file_path = 'weow_semi_supervision_training_EG.pkl'\n",
        "egs_path =  hf_hub_download(repo_id=\"nanopiero/weow_training_graphs\",\n",
        "                            filename=file_path,\n",
        "                            repo_type=\"dataset\"\n",
        "                            )"
      ],
      "metadata": {
        "id": "j5mWc3YMP2xR"
      },
      "id": "j5mWc3YMP2xR",
      "execution_count": 3,
      "outputs": []
    },
    {
      "cell_type": "code",
      "source": [
        "with open(ugs_path, 'rb') as file:\n",
        "  egs = pickle.load(file)\n",
        "\n",
        "print(egs)"
      ],
      "metadata": {
        "id": "-aZI7rRJacNc",
        "outputId": "34cc96bb-2399-4cc8-8972-ad4d671ae625",
        "colab": {
          "base_uri": "https://localhost:8080/"
        }
      },
      "id": "-aZI7rRJacNc",
      "execution_count": 5,
      "outputs": [
        {
          "output_type": "stream",
          "name": "stdout",
          "text": [
            "{'train': <networkx.classes.graph.Graph object at 0x7a18073fbe50>, 'val': <networkx.classes.graph.Graph object at 0x7a18073fba00>, 'vali': <networkx.classes.graph.Graph object at 0x7a1804a3bf10>, 'vale': <networkx.classes.graph.Graph object at 0x7a1804839780>}\n"
          ]
        }
      ]
    },
    {
      "cell_type": "code",
      "source": [
        "egs['train'].nodes['00011476_38_20150720_090417.jpg']"
      ],
      "metadata": {
        "id": "Jv62oOIafZpU",
        "outputId": "be08b10e-45eb-4cb4-8691-ad3359ee5e6a",
        "colab": {
          "base_uri": "https://localhost:8080/"
        }
      },
      "id": "Jv62oOIafZpU",
      "execution_count": 11,
      "outputs": [
        {
          "output_type": "execute_result",
          "data": {
            "text/plain": [
              "{'sequence': '00011476_38', 'levelvv': '0', 'vv': -1}"
            ]
          },
          "metadata": {},
          "execution_count": 11
        }
      ]
    }
  ],
  "metadata": {
    "kernelspec": {
      "display_name": "Python 3",
      "name": "python3"
    },
    "language_info": {
      "codemirror_mode": {
        "name": "ipython",
        "version": 3
      },
      "file_extension": ".py",
      "mimetype": "text/x-python",
      "name": "python",
      "nbconvert_exporter": "python",
      "pygments_lexer": "ipython3",
      "version": "3.9.15"
    },
    "colab": {
      "provenance": [],
      "gpuType": "T4"
    },
    "accelerator": "GPU"
  },
  "nbformat": 4,
  "nbformat_minor": 5
}