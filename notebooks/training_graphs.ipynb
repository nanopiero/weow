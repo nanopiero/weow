{
  "cells": [
    {
      "cell_type": "markdown",
      "source": [
        "# Targets used to train WEOW models\n",
        "## (notebook still under construction)"
      ],
      "metadata": {
        "id": "kJQBNrMGsqD_"
      },
      "id": "kJQBNrMGsqD_"
    },
    {
      "cell_type": "code",
      "execution_count": 3,
      "id": "f95d9a2d-5843-4f86-a56c-ea5a12c3097b",
      "metadata": {
        "id": "f95d9a2d-5843-4f86-a56c-ea5a12c3097b"
      },
      "outputs": [],
      "source": [
        "# Imports\n",
        "from os.path import join, isdir, isfile\n",
        "from os import listdir as ls\n",
        "import os\n",
        "import pickle\n",
        "from PIL import Image\n",
        "import matplotlib.pyplot as plt\n",
        "import torch\n",
        "import torch.nn.functional as F\n",
        "import numpy as np\n",
        "import torch\n",
        "import networkx as nx"
      ]
    },
    {
      "cell_type": "code",
      "source": [
        "# To get models and images\n",
        "! pip install huggingface_hub\n",
        "from huggingface_hub import hf_hub_download"
      ],
      "metadata": {
        "id": "xZg8RH3CETfa"
      },
      "id": "xZg8RH3CETfa",
      "execution_count": null,
      "outputs": []
    },
    {
      "cell_type": "markdown",
      "source": [
        "# Comparisons with respect to horizontal visibility"
      ],
      "metadata": {
        "id": "RWzUvF0qlsTj"
      },
      "id": "RWzUvF0qlsTj"
    },
    {
      "cell_type": "code",
      "source": [
        "import os\n",
        "import zipfile\n",
        "from huggingface_hub import hf_hub_download\n",
        "\n",
        "# Files containing paired comparisons:\n",
        "\n",
        "# strict order\n",
        "file_path = 'weow_semi_supervision_training_DG.pkl'\n",
        "dgs_path =  hf_hub_download(repo_id=\"nanopiero/weow_training_graphs\",\n",
        "                            filename=file_path,\n",
        "                            repo_type=\"dataset\"\n",
        "                            )\n",
        "# incomparabilities\n",
        "file_path = 'weow_semi_supervision_training_UG.pkl'\n",
        "ugs_path =  hf_hub_download(repo_id=\"nanopiero/weow_training_graphs\",\n",
        "                            filename=file_path,\n",
        "                            repo_type=\"dataset\"\n",
        "                            )"
      ],
      "metadata": {
        "id": "j5mWc3YMP2xR"
      },
      "id": "j5mWc3YMP2xR",
      "execution_count": null,
      "outputs": []
    },
    {
      "cell_type": "code",
      "source": [
        "# If a timeout occurs: enable the \"High-RAM\" option (Runtime > Change runtime type)\n",
        "# - Loading should take less than 10 seconds\n",
        "with open(dgs_path, 'rb') as file:\n",
        "  dgs = pickle.load(file)"
      ],
      "metadata": {
        "id": "_g6zUmVgpC5g"
      },
      "id": "_g6zUmVgpC5g",
      "execution_count": null,
      "outputs": []
    },
    {
      "cell_type": "code",
      "source": [
        "# The variable 'dgs' contains three sets of targets: 'train', 'vali' (for Validation Intra,\n",
        "# i.e., images from the training cameras but with independent pairings),\n",
        "# and 'vale' (for Validation Extra, i.e., images from independent cameras).\n",
        "dgs.keys()"
      ],
      "metadata": {
        "id": "wStKbL8dER8x"
      },
      "id": "wStKbL8dER8x",
      "execution_count": null,
      "outputs": []
    },
    {
      "cell_type": "code",
      "source": [
        "# The first element of the list contains handcrafted, strictly ordered training pairs:\n",
        "dg_handcrafted = dgs['train'][0]\n",
        "\n",
        "# This first element is a graph with nodes representing images:\n",
        "print(len(dg_handcrafted.nodes)) # 34726\n",
        "\n",
        "# The image names are structured as cameraID_YYYYMMDD_HHMMSS. For example:\n",
        "print(list(dg_handcrafted.nodes)[1000]) # 13853_20110220_220111.jpg\n",
        "\n",
        "# Most of the cameraIDs refer to the AMOS directory, where images can be found.\n",
        "# However, some images (3,769) come from other webcam archives. In these cases,\n",
        "# the cameraID is not a number:\n",
        "print(len([n for n in list(dg_handcrafted.nodes) if not n.split('_')[0].isdigit()]))\n",
        "\n",
        "# Some of the images/edges have been fully labeled.\n",
        "# Since labeling involved multiple steps, with varying levels of image-wise annotation,\n",
        "# the images are annotated in different ways:\n",
        "print(dg_handcrafted.nodes['13853_20110220_220111.jpg'])\n",
        "\n",
        "# In this case, it gives a dense annoation :\n",
        "# 'cam': ID of the AMOS repository (with or without the 000 prefix)\n",
        "# 'snowfall': indicates if snow is falling\n",
        "# 'rd_features': specific road features (eg drifts on the road)\n",
        "# 'atmo': describes the weather conditions in the image\n",
        "# 'noise': indicates if there are artifacts, conspicuous overlaid text, etc.\n",
        "# 'mask': if there are meteorological masks (snowflake or droplets)\n",
        "# 'time': lighting conditions\n",
        "# 'ground': level of the snow cover\n",
        "# 'visi': comparison with the previous image wrt vibility\n",
        "# 'old snow_traces': presence of remaining névés\n",
        "# 'compa': comparison with the previous image wrt snow cover\n",
        "# 'sequence': ID of the homogenenous sequence\n",
        "# 'vv' : measured visibility (if a colocated visibilimeter is available. -1 if not.)\n",
        "\n",
        "# second example:\n",
        "print(dg_handcrafted.nodes['00010103_4_20170103_093352.jpg'])\n",
        "# It provides:\n",
        "# 'sequence': ID of the homogeneous sequence\n",
        "# 'levelvv': rank of the image in a manually sorted batch of five images\n",
        "\n",
        "\n",
        "# For some edges of this directed graph, a weight has been assigned, e.g.:\n",
        "print(dg_handcrafted.edges[('1002_20080117_140759.jpg', '1002_20080117_153753.jpg')])\n",
        "print(dg_handcrafted.edges[('00010722_3_20170430_184302.jpg', '00010722_3_20150917_144251.jpg')])\n",
        "# These edges have been manually labeled with a high degree of certainty\n",
        "# (weight = 0 and weight = 1 correspond to two different annotation methods).\n",
        "# The other edges may have been obtained either by transitivity or through a\n",
        "# lower-quality comparison process.\n",
        "\n",
        "# The other sets ('vali' and 'vale') are structured similarly to 'dg_handcrafted'."
      ],
      "metadata": {
        "id": "5ZXAaBP5sVcg"
      },
      "id": "5ZXAaBP5sVcg",
      "execution_count": null,
      "outputs": []
    },
    {
      "cell_type": "code",
      "source": [
        "# Other strictly ordered pairs have been obtained automatically\n",
        "# using an auxiliary classifier:\n",
        "automatic_edges = dgs['train'][1]\n",
        "# Since there are no supplementary labels, these edges are simply listed:\n",
        "print(len(automatic_edges))\n",
        "# Here, the image names are formatted as \"amosRepoId_sequenceId_YYYYMMDD_HHMMSS\".\n",
        "# The sequenceId refers to a homogeneous sequence of images in the AMOS repository.\n",
        "# For example:\n",
        "print(automatic_edges[0][0])"
      ],
      "metadata": {
        "id": "LH8H7OLCdLTH"
      },
      "id": "LH8H7OLCdLTH",
      "execution_count": null,
      "outputs": []
    },
    {
      "cell_type": "code",
      "source": [
        "# The second HF dataset represents incomparable pairs of images.\n",
        "with open(ugs_path, 'rb') as file:\n",
        "    ugs = pickle.load(file)\n",
        "\n",
        "# The structure of 'ugs' is the same as that of 'dgs'.\n",
        "print(ugs.keys())\n",
        "\n",
        "# However, there are two handcrafted sets:\n",
        "ug_handcrafted = ugs['train'][0]\n",
        "print(len(ug_handcrafted.nodes))\n",
        "\n",
        "ug_with_noise_only = ugs['train'][1]\n",
        "print(len(ug_with_noise_only.nodes))\n",
        "\n",
        "# The second graph contains incomparabilities with images\n",
        "# that do not provide any direct information about snow cover or haze.\n",
        "\n",
        "# Moreover, the supplementary image-wise labels are lighter:\n",
        "print(ug_handcrafted.nodes['32841_20170427_104304.jpg'])\n",
        "\n",
        "# However, the edges are annotated with the type of incomparability (\"toi\"):\n",
        "print(ug_handcrafted.edges[('2030_20121219_211528.jpg', '2030_20121220_164531.jpg')])\n",
        "\n",
        "# It specifies, if possible, the relative positions of the output intervals Ix = [xinf, xsup] and\n",
        "# Iy = [yinf, ysup] that should be associated with the first and second images.\n",
        "# For example: -1, 1, -1, -1 means xinf > yinf; xinf < ysup; xsup > yinf; xsup > ysup\n",
        "\n",
        "# The second graph only contains inclusions:\n",
        "for i in range(10000,10005):\n",
        "  print(list(ug_with_noise_only.edges)[i], ug_with_noise_only.edges[list(ug_with_noise_only.edges)[i]])\n",
        "# The weight \"2\" helps distinguish these edges from those of 'ug_handcrafted' in case of a union.\n",
        "\n",
        "# Please note that despite the name 'ug', which suggests that the graphs\n",
        "# are undirected, the underlying structure is actually a directed graph.\n",
        "print(ug_with_noise_only, ug_handcrafted)\n",
        "\n",
        "# This is because the interpretation of \"toi\" depends on the order of the image pair.\n",
        "# For example, [1, 1, -1, -1] for (Image x, Image y) means Ix should include Iy,\n",
        "# but it means Ix is included in Iy for (Image y, Image x)."
      ],
      "metadata": {
        "id": "KAt-bd65EKZZ"
      },
      "id": "KAt-bd65EKZZ",
      "execution_count": null,
      "outputs": []
    },
    {
      "cell_type": "code",
      "source": [
        "# Finally, other incomparable pairs have also been obtained automatically\n",
        "# using the previously mentioned auxiliary classifier:\n",
        "automatic_edges = ugs['train'][2]\n",
        "print(len(automatic_edges))\n",
        "print(automatic_edges[0])\n",
        "\n",
        "# Here, the image names are formatted as \"amosRepoId_sequenceId_YYYYMMDD_HHMMSS\".\n",
        "# The sequenceId refers to a homogeneous sequence of images in the AMOS repository.\n",
        "# For these pairs, \"toi\" is not defined."
      ],
      "metadata": {
        "id": "j6sTL3p3IzhI"
      },
      "id": "j6sTL3p3IzhI",
      "execution_count": null,
      "outputs": []
    },
    {
      "cell_type": "markdown",
      "source": [
        "# Comparisons with respect to snow cover (To complete)"
      ],
      "metadata": {
        "id": "SL_VwUD2mB7b"
      },
      "id": "SL_VwUD2mB7b"
    },
    {
      "cell_type": "code",
      "source": [
        "# Files containing paired comparisons (labels auto and handcrafted labels):\n",
        "\n",
        "# strict order\n",
        "file_path = 'weow_semi_supervision_training_DG_snow.pkl'\n",
        "dgs_path =  hf_hub_download(repo_id=\"nanopiero/weow_training_graphs\",\n",
        "                            filename=file_path,\n",
        "                            repo_type=\"dataset\"\n",
        "                            )\n",
        "# incomparabilities\n",
        "file_path = 'weow_semi_supervision_training_UG_snow.pkl'\n",
        "ugs_path =  hf_hub_download(repo_id=\"nanopiero/weow_training_graphs\",\n",
        "                            filename=file_path,\n",
        "                            repo_type=\"dataset\"\n",
        "                            )"
      ],
      "metadata": {
        "id": "q2TOFkS4l92c"
      },
      "id": "q2TOFkS4l92c",
      "execution_count": null,
      "outputs": []
    },
    {
      "cell_type": "code",
      "source": [
        "with open(dgs_path, 'rb') as file:\n",
        "  dgs = pickle.load(file)"
      ],
      "metadata": {
        "id": "bK_COr1aHokV"
      },
      "id": "bK_COr1aHokV",
      "execution_count": 7,
      "outputs": []
    },
    {
      "cell_type": "code",
      "source": [
        "# The variable 'dgs' contains two sets of targets: 'train', 'val'\n",
        "# (here 'val' only contains images from independent cameras).\n",
        "dgs.keys()"
      ],
      "metadata": {
        "id": "2UWhhQIBHrd9"
      },
      "id": "2UWhhQIBHrd9",
      "execution_count": null,
      "outputs": []
    },
    {
      "cell_type": "code",
      "source": [
        "with open(ugs_path, 'rb') as file:\n",
        "  ugs = pickle.load(file)"
      ],
      "metadata": {
        "id": "IrqMewOHbjgi"
      },
      "id": "IrqMewOHbjgi",
      "execution_count": 32,
      "outputs": []
    },
    {
      "cell_type": "code",
      "source": [
        "# The variable 'ugs' contains two sets of targets: 'train', 'val'\n",
        "# (here 'val' only contains images from independent cameras).\n",
        "ugs.keys()"
      ],
      "metadata": {
        "id": "iGfSrtliLY1F"
      },
      "id": "iGfSrtliLY1F",
      "execution_count": null,
      "outputs": []
    }
  ],
  "metadata": {
    "kernelspec": {
      "display_name": "Python 3",
      "name": "python3"
    },
    "language_info": {
      "codemirror_mode": {
        "name": "ipython",
        "version": 3
      },
      "file_extension": ".py",
      "mimetype": "text/x-python",
      "name": "python",
      "nbconvert_exporter": "python",
      "pygments_lexer": "ipython3",
      "version": "3.9.15"
    },
    "colab": {
      "provenance": [],
      "machine_shape": "hm"
    }
  },
  "nbformat": 4,
  "nbformat_minor": 5
}